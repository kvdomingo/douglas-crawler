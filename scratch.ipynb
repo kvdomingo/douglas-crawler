{
 "cells": [
  {
   "metadata": {
    "ExecuteTime": {
     "end_time": "2024-11-20T10:04:54.157565Z",
     "start_time": "2024-11-20T10:04:54.152006Z"
    }
   },
   "cell_type": "code",
   "source": [
    "from dotenv import load_dotenv\n",
    "\n",
    "load_dotenv()\n",
    "\n",
    "import json\n",
    "import re\n",
    "from pprint import PrettyPrinter\n",
    "\n",
    "import polars as pl\n",
    "from bs4 import BeautifulSoup\n",
    "from httpx import Client\n",
    "from pydantic import AnyHttpUrl\n",
    "from tqdm.asyncio import tqdm\n",
    "\n",
    "from douglas.internal.crawler import DouglasCrawler\n",
    "from douglas.schemas import Product\n",
    "from douglas.settings import settings"
   ],
   "id": "c84a13aa4a2c687b",
   "outputs": [],
   "execution_count": 2
  },
  {
   "metadata": {
    "ExecuteTime": {
     "end_time": "2024-11-20T10:04:54.610807Z",
     "start_time": "2024-11-20T10:04:54.607864Z"
    }
   },
   "cell_type": "code",
   "source": [
    "url = \"https://www.douglas.de/de/c/gesicht/gesichtsmasken/feuchtigkeitsmasken/120308\"\n",
    "# url = \"https://www.douglas.de/de/p/3001055831?variant=077163\"  # Avocado\n",
    "# url = \"https://www.douglas.de/de/p/3000037624\"  # with discount"
   ],
   "id": "5f348f62878ec89",
   "outputs": [],
   "execution_count": 3
  },
  {
   "cell_type": "markdown",
   "id": "9b57d779cd555d70",
   "metadata": {},
   "source": "## HTML scrape"
  },
  {
   "cell_type": "code",
   "execution_count": 3,
   "id": "e98e8a258d7531f2",
   "metadata": {
    "ExecuteTime": {
     "end_time": "2024-11-19T09:17:46.736836Z",
     "start_time": "2024-11-19T09:17:46.272992Z"
    }
   },
   "outputs": [],
   "source": [
    "client = Client()\n",
    "res = client.get(\n",
    "    url,\n",
    "    headers={\n",
    "        \"Accept\": \"text/html\",\n",
    "        \"User-Agent\": settings.USER_AGENT,\n",
    "    },\n",
    ")"
   ]
  },
  {
   "cell_type": "code",
   "execution_count": 4,
   "id": "25c3e2615db1cd87",
   "metadata": {
    "ExecuteTime": {
     "end_time": "2024-11-19T09:17:48.342331Z",
     "start_time": "2024-11-19T09:17:48.259552Z"
    }
   },
   "outputs": [],
   "source": [
    "soup = BeautifulSoup(res.text, features=\"lxml\")"
   ]
  },
  {
   "cell_type": "code",
   "execution_count": 10,
   "id": "c5b81521ede967b1",
   "metadata": {
    "ExecuteTime": {
     "end_time": "2024-11-19T10:33:24.755174Z",
     "start_time": "2024-11-19T10:33:24.737777Z"
    }
   },
   "outputs": [
    {
     "data": {
      "text/plain": [
       "['/de/p/5002082006',\n",
       " '/de/p/3000037624?variant=493205',\n",
       " '/de/p/3000037624?variant=493205',\n",
       " '/de/p/5010334127?variant=137660',\n",
       " '/de/p/5011530062',\n",
       " '/de/p/5003702027',\n",
       " '/de/p/5010535000',\n",
       " '/de/p/5010481013',\n",
       " '/de/p/3000063841',\n",
       " '/de/p/3001052450?variant=1104546',\n",
       " '/de/p/5010111057',\n",
       " '/de/p/5010704077',\n",
       " '/de/p/3001056394?variant=066496',\n",
       " '/de/p/3001001783',\n",
       " '/de/p/1069021166',\n",
       " '/de/p/3001001730?variant=803119',\n",
       " '/de/p/5002082007',\n",
       " '/de/p/3001052445',\n",
       " '/de/p/5011050004',\n",
       " '/de/p/5011656133',\n",
       " '/de/p/5011311015',\n",
       " '/de/p/3001055831?variant=077163',\n",
       " '/de/p/5002821015?variant=702648',\n",
       " '/de/p/5009004032',\n",
       " '/de/p/5010641022',\n",
       " '/de/p/5010301030',\n",
       " '/de/p/3001036090',\n",
       " '/de/p/5002082006',\n",
       " '/de/p/3001036090',\n",
       " '/de/p/3001001733?variant=803105',\n",
       " '/de/p/5011555034',\n",
       " '/de/p/3001052453',\n",
       " '/de/p/5010458013',\n",
       " '/de/p/3001056187',\n",
       " '/de/p/5011547062',\n",
       " '/de/p/5010555057',\n",
       " '/de/p/3001032505',\n",
       " '/de/p/5010574006',\n",
       " '/de/p/5010033015?variant=162578',\n",
       " '/de/p/5002787047',\n",
       " '/de/p/5002052042',\n",
       " '/de/p/5011018020',\n",
       " '/de/p/5010301029?variant=814181',\n",
       " '/de/p/5011285318',\n",
       " '/de/p/3001048004',\n",
       " '/de/p/5000344087',\n",
       " '/de/p/3001052452',\n",
       " '/de/p/3001036895',\n",
       " '/de/p/3001020311',\n",
       " '/de/p/3001032740',\n",
       " '/de/p/3001042950',\n",
       " '/de/p/5010562051',\n",
       " '/de/p/5011545336',\n",
       " '/de/p/3001005859',\n",
       " '/de/p/5010111057',\n",
       " '/de/p/5010481013']"
      ]
     },
     "execution_count": 10,
     "metadata": {},
     "output_type": "execute_result"
    }
   ],
   "source": [
    "[s.find(\"a\").get(\"href\") for s in soup.find_all(\"div\", {\"class\": \"product-tile\"})]"
   ]
  },
  {
   "cell_type": "code",
   "execution_count": 23,
   "id": "518cb7744a7d6777",
   "metadata": {
    "ExecuteTime": {
     "end_time": "2024-11-17T10:19:51.298277Z",
     "start_time": "2024-11-17T10:19:51.280849Z"
    }
   },
   "outputs": [
    {
     "name": "stdout",
     "output_type": "stream",
     "text": [
      "{ 'avg_rating': '4.5',\n",
      "  'description': 'Verwöhnen Sie Ihre Haut mit der Avocado Nourishing Hydration '\n",
      "                 'Mask und genießen Sie Ihren ganz persönlichen Masken-Moment! '\n",
      "                 'Die unglaublich reichhaltige Gesichtsmaske von Kiehl’s '\n",
      "                 'eignet sich dank der besonders milden und verträglichen '\n",
      "                 'Formel für jeden Hauttyp, selbst für sensible Haut. '\n",
      "                 'Angereichert mit Avocado-Frucht-Extrakt, Avocado-Öl und '\n",
      "                 'Nachtkerzen-Öl, versorgt die einzigartige Maske die Haut '\n",
      "                 'intensiv mit Feuchtigkeit und hinterlässt ein geschmeidig '\n",
      "                 'zartes, straffes Hautgefühl. Für die cremige Textur ließen '\n",
      "                 'sich die Beauty-Experten von Kiehl’s von frischen, reifen '\n",
      "                 'Avocados inspirieren – so wird die Pflegeroutine zum '\n",
      "                 'luxuriösen Wohlfühlerlebnis.',\n",
      "  'image': 'https://media.douglas.de/medias/1p7Sek077163-0-dgl-DE.jpg?context=bWFzdGVyfGltYWdlc3wxMDg3MDZ8aW1hZ2UvanBlZ3xhR1l4TDJneU5DODRPVEExTWpZeU1qWTRORFEyTHpGd04xTmxhekEzTnpFMk0xOHdYMlJuYkMxRVJTNXFjR2N8MTBiZWUyNjMyYTdmMGI2NDM2NjEzZDgxMGE4Y2E2NTcwZTE3NWQyZjEyMmRlYTQxYTljMjkxYTRlNmU2OGNhMQ&grid=true&imPolicy=grayScaled',\n",
      "  'labels': [ 'allergen-frei',\n",
      "              'silikonfrei',\n",
      "              'paraffinfrei',\n",
      "              'parabenfrei',\n",
      "              'parfümfrei',\n",
      "              'amoniakfrei',\n",
      "              'phthalaten-frei',\n",
      "              'pigment- und farbstoff-frei'],\n",
      "  'name': 'Avocado Nourishing Hydration Mask',\n",
      "  'properties': { 'Alter': 'Alle Altersgruppen',\n",
      "                  'Anwendungsbereich': 'Gesicht',\n",
      "                  'Art-Nr.': '077163',\n",
      "                  'Eigenschaft': 'pflegend, hautschonend, '\n",
      "                                 'feuchtigkeitsspendend',\n",
      "                  'Hauttyp': 'Alle Hauttypen',\n",
      "                  'Konsistenz': 'Creme',\n",
      "                  'Produkttyp': 'Maske',\n",
      "                  'Wasserfest': 'Nein',\n",
      "                  'Zusatzstoffe': 'amoniakfrei, paraffinfrei, phthalaten-frei, '\n",
      "                                  'pigment- und farbstoff-frei, parfümfrei, '\n",
      "                                  'silikonfrei, parabenfrei, allergen-frei'},\n",
      "  'total_ratings': '288',\n",
      "  'variants': [ {'name': '28 ml', 'price': '27.00'},\n",
      "                {'name': '100 ml', 'price': '52.00'}]}\n"
     ]
    }
   ],
   "source": [
    "PrettyPrinter(indent=2).pprint(\n",
    "    {\n",
    "        \"name\": soup.find(\"span\", attrs={\"class\": \"header-name\"}).text,\n",
    "        \"image\": soup.find(\"img\", attrs={\"class\": \"image swiper-lazy\"}).get(\n",
    "            \"data-lazy-src\"\n",
    "        ),\n",
    "        \"variants\": [\n",
    "            {\n",
    "                \"name\": sou.find(\n",
    "                    \"div\", attrs={\"class\": \"product-detail__variant-name\"}\n",
    "                ).text,\n",
    "                \"price\": re.search(\n",
    "                    r\"\\d+\\.\\d+\",\n",
    "                    sou.find(\"span\", attrs={\"class\": \"product-price__price\"})\n",
    "                    .text.replace(\"\\xa0\", \" \")\n",
    "                    .replace(\",\", \".\"),\n",
    "                    flags=re.I,\n",
    "                ).group(),\n",
    "            }\n",
    "            for sou in soup.find_all(\n",
    "                \"div\", attrs={\"class\": \"product-detail__variant-row\"}\n",
    "            )\n",
    "        ],\n",
    "        \"labels\": [\n",
    "            s.text\n",
    "            for s in soup.find(\"div\", attrs={\"class\": \"product-labels\"}).find_all(\n",
    "                \"span\", {\"class\": \"product-label__name\"}\n",
    "            )\n",
    "        ],\n",
    "        \"properties\": {\n",
    "            sou.find_all(\"span\")[0].text: sou.find_all(\"span\")[1].text\n",
    "            for sou in soup.find(\n",
    "                \"div\", attrs={\"data-testid\": \"product-detail-info__classifications\"}\n",
    "            ).find_all(\"div\")\n",
    "        },\n",
    "        \"description\": soup.find(\n",
    "            \"div\", attrs={\"class\": \"truncate product-details__description\"}\n",
    "        ).text,\n",
    "        \"avg_rating\": re.search(\n",
    "            r\"^\\d+\\.\\d+\",\n",
    "            soup.find(\"span\", attrs={\"class\": \"ratings-info\"}).text.replace(\n",
    "                \"\\xa0\", \" \"\n",
    "            ),\n",
    "            flags=re.I,\n",
    "        ).group(),\n",
    "        \"total_ratings\": re.search(\n",
    "            r\"\\(\\d+\\)$\",\n",
    "            soup.find(\"span\", attrs={\"class\": \"ratings-info\"}).text.replace(\n",
    "                \"\\xa0\", \" \"\n",
    "            ),\n",
    "            flags=re.I,\n",
    "        )\n",
    "        .group()\n",
    "        .strip(\"()\"),\n",
    "    }\n",
    ")"
   ]
  },
  {
   "cell_type": "markdown",
   "id": "383fe1c42d3b7d44",
   "metadata": {},
   "source": "## Full crawl"
  },
  {
   "cell_type": "code",
   "execution_count": 54,
   "id": "6ba4e6390c9a24c1",
   "metadata": {
    "ExecuteTime": {
     "end_time": "2024-11-20T07:56:07.274140Z",
     "start_time": "2024-11-20T07:56:05.780912Z"
    }
   },
   "outputs": [
    {
     "name": "stdout",
     "output_type": "stream",
     "text": [
      "{\n",
      "  \"page\": 1,\n",
      "  \"page_size\": 56,\n",
      "  \"total_pages\": 12,\n",
      "  \"items\": [\n",
      "    \"/de/p/5002082006\",\n",
      "    \"/de/p/3000037624?variant=493205\",\n",
      "    \"/de/p/3000037624?variant=493205\",\n",
      "    \"/de/p/5010334127\",\n",
      "    \"/de/p/5003702027\",\n",
      "    \"/de/p/5010535000\",\n",
      "    \"/de/p/5010481013\",\n",
      "    \"/de/p/3000063841\",\n",
      "    \"/de/p/5010111057\",\n",
      "    \"/de/p/3001052450?variant=1104546\",\n",
      "    \"/de/p/5010704077\",\n",
      "    \"/de/p/3001056394?variant=066496\",\n",
      "    \"/de/p/3001001783\",\n",
      "    \"/de/p/5011656133\",\n",
      "    \"/de/p/3001001730?variant=803119\",\n",
      "    \"/de/p/5011050004\",\n",
      "    \"/de/p/5002082007\",\n",
      "    \"/de/p/3001052445\",\n",
      "    \"/de/p/5011311015\",\n",
      "    \"/de/p/5002821015?variant=702648\",\n",
      "    \"/de/p/3001055831?variant=077163\",\n",
      "    \"/de/p/5009004032\",\n",
      "    \"/de/p/5010641022\",\n",
      "    \"/de/p/5010301030\",\n",
      "    \"/de/p/3001036090\",\n",
      "    \"/de/p/5011555034\",\n",
      "    \"/de/p/5002082006\",\n",
      "    \"/de/p/3001052453\",\n",
      "    \"/de/p/3001036090\",\n",
      "    \"/de/p/5011618058\",\n",
      "    \"/de/p/5010458013\",\n",
      "    \"/de/p/3001056187\",\n",
      "    \"/de/p/5011547062\",\n",
      "    \"/de/p/5010555057\",\n",
      "    \"/de/p/3001032505\",\n",
      "    \"/de/p/5010033015?variant=162578\",\n",
      "    \"/de/p/5010574006\",\n",
      "    \"/de/p/5002052042\",\n",
      "    \"/de/p/5002787047\",\n",
      "    \"/de/p/5011018020\",\n",
      "    \"/de/p/5010301029?variant=814181\",\n",
      "    \"/de/p/5000344087\",\n",
      "    \"/de/p/5011285318\",\n",
      "    \"/de/p/3001052452\",\n",
      "    \"/de/p/3001020311\",\n",
      "    \"/de/p/3001032740\",\n",
      "    \"/de/p/3001042950\",\n",
      "    \"/de/p/3001036895\",\n",
      "    \"/de/p/5011545336\",\n",
      "    \"/de/p/5010562051\",\n",
      "    \"/de/p/5010515242\",\n",
      "    \"/de/p/3001005859\",\n",
      "    \"/de/p/5010567000\",\n",
      "    \"/de/p/5002082007\",\n",
      "    \"/de/p/5010111057\",\n",
      "    \"/de/p/5010481013\"\n",
      "  ]\n",
      "}\n"
     ]
    }
   ],
   "source": [
    "crawl = DouglasCrawler()\n",
    "data = await crawl.product.search(url)\n",
    "print(data.model_dump_json(indent=2))"
   ]
  },
  {
   "cell_type": "code",
   "execution_count": 55,
   "id": "1b0cfe62532af5d1",
   "metadata": {
    "ExecuteTime": {
     "end_time": "2024-11-20T07:56:28.787621Z",
     "start_time": "2024-11-20T07:56:28.013653Z"
    }
   },
   "outputs": [
    {
     "data": {
      "text/plain": [
       "Product(ean='3614273010092', code='570368', url=Url('https://www.douglas.de//de/p/5002082006'), name='Aquasource Aqua Super Tuchmaske Glow', description='Soforthilfe für einen strahlenden GlowEntdecken Sie die Aqua Super Tuchmaske Glow – die perfekte Ergänzung zu Ihrem Aqua Glow Super Concentrate von Biotherm! Die intensiv feuchtigkeitsspendende Tuchmaske mit Vitamin C bringt fahle und dehydrierte Haut zum Strahlen, während die natürliche Hautbarriere gestärkt wird und die Haut so ebenmäßiger und leuchtender wirkt.\\xa0Mehr zu diesem Produkt\\xa0Tuchmaske mit Vitamin Chydratisiert & stärkt die natürliche Hautbarriereebenmäßige & strahlende Haut\\xa0', average_rating=4.6, number_of_reviews=51, image=Url('https://media.douglas.de/medias/KQ7ALe570368-0-dgl-DE.png?context=bWFzdGVyfGltYWdlc3wzOTE4M3xpbWFnZS9wbmd8YUdGbUwyZ3lOQzgxTURNek1ERXpNVGt5TWprM05DOUxVVGRCVEdVMU56QXpOamhmTUY5a1oyd3RSRVV1Y0c1bnwxZTcxNGFmM2UzY2JlOTYxZjlkNWY5MGE0MDAwNDQyZDY2YWUzYzZiNDg3ZWQyMmEyZjIyYzI3OTFhNjBlMDk2&grid=true&imPolicy=grayScaled'), features=[], classifications=[ProductClassification(key='Art-Nr.', value='570368'), ProductClassification(key='Konsistenz', value='Emulsion'), ProductClassification(key='Hauttyp', value='Alle Hauttypen'), ProductClassification(key='Eigenschaft', value='feuchtigkeitsspendend, leuchtend'), ProductClassification(key='Wasserfest', value='Nein'), ProductClassification(key='Produkttyp', value='Maske'), ProductClassification(key='Anwendungsbereich', value='Gesicht'), ProductClassification(key='Geschenk für', value='Geburtstag, Dankeschön'), ProductClassification(key='Alter', value='Alle Altersgruppen')], variants=[ProductVariant(name='50 ml', base_price=7.0, original_price=7.0, discounted_price=6.29)])"
      ]
     },
     "execution_count": 55,
     "metadata": {},
     "output_type": "execute_result"
    }
   ],
   "source": [
    "await crawl.product.get(\n",
    "    str(\n",
    "        AnyHttpUrl.build(\n",
    "            scheme=settings.BASE_URL.scheme,\n",
    "            host=settings.BASE_URL.host,\n",
    "            path=data.items[0],\n",
    "        )\n",
    "    )\n",
    ")"
   ]
  },
  {
   "metadata": {},
   "cell_type": "code",
   "outputs": [],
   "execution_count": null,
   "source": [
    "products: list[Product] = await tqdm.gather(\n",
    "    *[\n",
    "        crawl.product.get(\n",
    "            str(\n",
    "                AnyHttpUrl.build(\n",
    "                    scheme=settings.BASE_URL.scheme,\n",
    "                    host=settings.BASE_URL.host,\n",
    "                    path=p,\n",
    "                )\n",
    "            )\n",
    "        )\n",
    "        for p in data.items\n",
    "    ]\n",
    ")\n",
    "\n",
    "print(\n",
    "    json.dumps(\n",
    "        [p.model_dump(mode=\"json\") for p in products], indent=2, ensure_ascii=False\n",
    "    )\n",
    ")"
   ],
   "id": "a7db6c90bb3ebdc6"
  },
  {
   "metadata": {
    "ExecuteTime": {
     "end_time": "2024-11-20T10:05:37.678147Z",
     "start_time": "2024-11-20T10:05:37.490456Z"
    }
   },
   "cell_type": "code",
   "source": "",
   "id": "f12ee8fda29b8940",
   "outputs": [
    {
     "ename": "AttributeError",
     "evalue": "module 'polars' has no attribute 'from_pydantic'",
     "output_type": "error",
     "traceback": [
      "\u001B[0;31m---------------------------------------------------------------------------\u001B[0m",
      "\u001B[0;31mAttributeError\u001B[0m                            Traceback (most recent call last)",
      "Cell \u001B[0;32mIn[4], line 1\u001B[0m\n\u001B[0;32m----> 1\u001B[0m \u001B[43mpl\u001B[49m\u001B[38;5;241;43m.\u001B[39;49m\u001B[43mfrom_pydantic\u001B[49m\n",
      "File \u001B[0;32m~/eyva/.venv/lib/python3.12/site-packages/polars/__init__.py:431\u001B[0m, in \u001B[0;36m__getattr__\u001B[0;34m(name)\u001B[0m\n\u001B[1;32m    428\u001B[0m     \u001B[38;5;28;01mreturn\u001B[39;00m \u001B[38;5;28mgetattr\u001B[39m(dtgroup, name)\n\u001B[1;32m    430\u001B[0m msg \u001B[38;5;241m=\u001B[39m \u001B[38;5;124mf\u001B[39m\u001B[38;5;124m\"\u001B[39m\u001B[38;5;124mmodule \u001B[39m\u001B[38;5;132;01m{\u001B[39;00m\u001B[38;5;18m__name__\u001B[39m\u001B[38;5;132;01m!r}\u001B[39;00m\u001B[38;5;124m has no attribute \u001B[39m\u001B[38;5;132;01m{\u001B[39;00mname\u001B[38;5;132;01m!r}\u001B[39;00m\u001B[38;5;124m\"\u001B[39m\n\u001B[0;32m--> 431\u001B[0m \u001B[38;5;28;01mraise\u001B[39;00m \u001B[38;5;167;01mAttributeError\u001B[39;00m(msg)\n",
      "\u001B[0;31mAttributeError\u001B[0m: module 'polars' has no attribute 'from_pydantic'"
     ]
    }
   ],
   "execution_count": 4
  },
  {
   "metadata": {},
   "cell_type": "code",
   "outputs": [],
   "execution_count": null,
   "source": [
    "df = pl.from_dicts([p.model_dump(mode=\"json\") for p in products]).unique(\n",
    "    [\"ean\"], keep=\"first\"\n",
    ")\n",
    "df"
   ],
   "id": "becd2914538df890"
  },
  {
   "metadata": {},
   "cell_type": "code",
   "outputs": [],
   "execution_count": null,
   "source": [
    "variants_df = (\n",
    "    df.select(product_id=pl.col(\"ean\"), variants=pl.col(\"variants\"))\n",
    "    .explode(\"variants\")\n",
    "    .unnest(\"variants\")\n",
    ")\n",
    "variants_df"
   ],
   "id": "a8b034a64ecd6b5"
  },
  {
   "cell_type": "code",
   "execution_count": 51,
   "id": "70a8a750f185a010",
   "metadata": {
    "ExecuteTime": {
     "end_time": "2024-11-20T06:46:54.426573Z",
     "start_time": "2024-11-20T06:46:54.421027Z"
    }
   },
   "outputs": [
    {
     "data": {
      "text/html": [
       "<div><style>\n",
       ".dataframe > thead > tr,\n",
       ".dataframe > tbody > tr {\n",
       "  text-align: right;\n",
       "  white-space: pre-wrap;\n",
       "}\n",
       "</style>\n",
       "<small>shape: (348, 3)</small><table border=\"1\" class=\"dataframe\"><thead><tr><th>product_id</th><th>key</th><th>value</th></tr><tr><td>str</td><td>str</td><td>str</td></tr></thead><tbody><tr><td>&quot;3666057192012&quot;</td><td>&quot;Art-Nr.&quot;</td><td>&quot;1122645&quot;</td></tr><tr><td>&quot;3666057192012&quot;</td><td>&quot;Konsistenz&quot;</td><td>&quot;Creme&quot;</td></tr><tr><td>&quot;3666057192012&quot;</td><td>&quot;Hauttyp&quot;</td><td>&quot;Alle&nbsp;Hauttypen&quot;</td></tr><tr><td>&quot;3666057192012&quot;</td><td>&quot;Finish&quot;</td><td>&quot;natürlich&quot;</td></tr><tr><td>&quot;3666057192012&quot;</td><td>&quot;Eigenschaft&quot;</td><td>&quot;pflegend,&nbsp;feuchtigkeitsspenden…</td></tr><tr><td>&hellip;</td><td>&hellip;</td><td>&hellip;</td></tr><tr><td>&quot;5057566631778&quot;</td><td>&quot;Art-Nr.&quot;</td><td>&quot;1079403&quot;</td></tr><tr><td>&quot;5057566631778&quot;</td><td>&quot;Hauttyp&quot;</td><td>&quot;Alle&nbsp;Hauttypen&quot;</td></tr><tr><td>&quot;5057566631778&quot;</td><td>&quot;Eigenschaft&quot;</td><td>&quot;feuchtigkeitsspendend,&nbsp;straffe…</td></tr><tr><td>&quot;5057566631778&quot;</td><td>&quot;Produkttyp&quot;</td><td>&quot;Maske&quot;</td></tr><tr><td>&quot;5057566631778&quot;</td><td>&quot;Anwendungsbereich&quot;</td><td>&quot;Augen&quot;</td></tr></tbody></table></div>"
      ],
      "text/plain": [
       "shape: (348, 3)\n",
       "┌───────────────┬───────────────────┬─────────────────────────────────┐\n",
       "│ product_id    ┆ key               ┆ value                           │\n",
       "│ ---           ┆ ---               ┆ ---                             │\n",
       "│ str           ┆ str               ┆ str                             │\n",
       "╞═══════════════╪═══════════════════╪═════════════════════════════════╡\n",
       "│ 3666057192012 ┆ Art-Nr.           ┆ 1122645                         │\n",
       "│ 3666057192012 ┆ Konsistenz        ┆ Creme                           │\n",
       "│ 3666057192012 ┆ Hauttyp           ┆ Alle Hauttypen                  │\n",
       "│ 3666057192012 ┆ Finish            ┆ natürlich                       │\n",
       "│ 3666057192012 ┆ Eigenschaft       ┆ pflegend, feuchtigkeitsspenden… │\n",
       "│ …             ┆ …                 ┆ …                               │\n",
       "│ 5057566631778 ┆ Art-Nr.           ┆ 1079403                         │\n",
       "│ 5057566631778 ┆ Hauttyp           ┆ Alle Hauttypen                  │\n",
       "│ 5057566631778 ┆ Eigenschaft       ┆ feuchtigkeitsspendend, straffe… │\n",
       "│ 5057566631778 ┆ Produkttyp        ┆ Maske                           │\n",
       "│ 5057566631778 ┆ Anwendungsbereich ┆ Augen                           │\n",
       "└───────────────┴───────────────────┴─────────────────────────────────┘"
      ]
     },
     "execution_count": 51,
     "metadata": {},
     "output_type": "execute_result"
    }
   ],
   "source": [
    "classifications_df = (\n",
    "    df.select(\n",
    "        product_id=pl.col(\"ean\"),\n",
    "        classifications=pl.col(\"classifications\"),\n",
    "    )\n",
    "    .explode(\"classifications\")\n",
    "    .unnest(\"classifications\")\n",
    ")\n",
    "classifications_df"
   ]
  },
  {
   "metadata": {},
   "cell_type": "code",
   "outputs": [],
   "execution_count": null,
   "source": "",
   "id": "ea82673c6d1120ff"
  }
 ],
 "metadata": {
  "kernelspec": {
   "display_name": "Python 3",
   "language": "python",
   "name": "python3"
  },
  "language_info": {
   "codemirror_mode": {
    "name": "ipython",
    "version": 2
   },
   "file_extension": ".py",
   "mimetype": "text/x-python",
   "name": "python",
   "nbconvert_exporter": "python",
   "pygments_lexer": "ipython2",
   "version": "2.7.6"
  }
 },
 "nbformat": 4,
 "nbformat_minor": 5
}
