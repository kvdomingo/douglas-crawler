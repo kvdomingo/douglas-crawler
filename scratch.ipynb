{
 "cells": [
  {
   "cell_type": "code",
   "execution_count": 1,
   "id": "initial_id",
   "metadata": {
    "ExecuteTime": {
     "end_time": "2024-11-15T09:23:47.541991Z",
     "start_time": "2024-11-15T09:23:47.256150Z"
    }
   },
   "outputs": [],
   "source": [
    "import os\n",
    "\n",
    "from dotenv import load_dotenv\n",
    "\n",
    "load_dotenv()\n",
    "os.environ.setdefault(\n",
    "    \"USER_AGENT\",\n",
    "    \"Mozilla/5.0 (X11; Linux x86_64; rv:131.0) Gecko/20100101 Firefox/131.0\",\n",
    ")\n",
    "\n",
    "import re\n",
    "from pprint import PrettyPrinter\n",
    "\n",
    "from bs4 import BeautifulSoup\n",
    "from httpx import Client"
   ]
  },
  {
   "cell_type": "code",
   "execution_count": 4,
   "id": "eeff786d1efbd0e0",
   "metadata": {
    "ExecuteTime": {
     "end_time": "2024-11-15T09:24:05.088967Z",
     "start_time": "2024-11-15T09:24:05.085736Z"
    }
   },
   "outputs": [],
   "source": [
    "# url = 'https://www.douglas.de/de/c/gesicht/gesichtsmasken/feuchtigkeitsmasken/120308'\n",
    "# url = 'https://www.douglas.de/de/p/3001055831'  # Avocado\n",
    "url = \"https://www.douglas.de/de/p/3000037624\"  # with discount"
   ]
  },
  {
   "cell_type": "code",
   "execution_count": 5,
   "id": "e98e8a258d7531f2",
   "metadata": {
    "ExecuteTime": {
     "end_time": "2024-11-15T09:24:06.795952Z",
     "start_time": "2024-11-15T09:24:05.939279Z"
    }
   },
   "outputs": [],
   "source": [
    "client = Client()\n",
    "res = client.get(\n",
    "    url,\n",
    "    headers={\n",
    "        \"Accept\": \"text/html\",\n",
    "        \"User-Agent\": os.environ.get(\"USER_AGENT\"),\n",
    "    },\n",
    ")"
   ]
  },
  {
   "cell_type": "code",
   "execution_count": 6,
   "id": "25c3e2615db1cd87",
   "metadata": {
    "ExecuteTime": {
     "end_time": "2024-11-15T09:24:07.525145Z",
     "start_time": "2024-11-15T09:24:07.448473Z"
    }
   },
   "outputs": [],
   "source": [
    "soup = BeautifulSoup(res.text, features=\"lxml\")"
   ]
  },
  {
   "cell_type": "code",
   "execution_count": 11,
   "id": "518cb7744a7d6777",
   "metadata": {
    "ExecuteTime": {
     "end_time": "2024-11-15T09:36:26.955480Z",
     "start_time": "2024-11-15T09:36:26.911075Z"
    }
   },
   "outputs": [
    {
     "name": "stdout",
     "output_type": "stream",
     "text": [
      "{ 'avg_rating': '4.4',\n",
      "  'description': 'Für eine strahlende & makellose HautMit der Rare Earth Pore '\n",
      "                 \"Cleansing Masque präsentiert Kiehl's eine effiziente, \"\n",
      "                 'porentief klärende Maske auf Basis von seltener weißer '\n",
      "                 'Amazonas-Tonerde aus fairem Handel. Sie befreit die Haut von '\n",
      "                 'überschüssigem Sebum und gleicht Partien aus, die zu '\n",
      "                 'Unreinheiten neigen. Diese klärenden Wirkstoffe werden '\n",
      "                 'kombiniert mit pflegenden Inhaltsstoffen wie '\n",
      "                 'hydratisierender Aloe vera und beruhigendem Hafermehl. Das '\n",
      "                 'Ergebnis ist eine porentief gereinigte Haut, die von '\n",
      "                 'Mitessern, Pickeln und Rötungen befreit ist.\\xa0',\n",
      "  'image': 'https://media.douglas.de/medias/edrQ9J939174-0-dgl-DE.jpg?context=bWFzdGVyfGltYWdlc3wxMTA3MDl8aW1hZ2UvanBlZ3xhR0l3TDJoaVlTODRPREEyTXpreU1EY3dNVGMwTDJWa2NsRTVTamt6T1RFM05GOHdYMlJuYkMxRVJTNXFjR2N8YzU2OWIzMzkyOTM2NDQxNWQzM2VkMmQxZWJhNTZkNmVjYTZmODkzMmM2ZGZlZjdhN2EwOTQwNGEyN2VkNzA2Mw&grid=true&imPolicy=grayScaled',\n",
      "  'name': 'Deep Pore Cleansing Masque',\n",
      "  'product_details': { 'Alter': 'Alle Altersgruppen',\n",
      "                       'Anwendungsbereich': 'Gesicht',\n",
      "                       'Art-Nr.': '939174',\n",
      "                       'Eigenschaft': 'erfrischend, reinigend, '\n",
      "                                      'revitalisierend, Anti-Oxidant, '\n",
      "                                      'porenverfeinernd, Anti-Pollution',\n",
      "                       'Geschenk für': 'Geburtstag',\n",
      "                       'Hauttyp': 'Alle Hauttypen',\n",
      "                       'Konsistenz': 'Lotion',\n",
      "                       'Produkttyp': 'Tiegel',\n",
      "                       'Wasserfest': 'Nein',\n",
      "                       'Zusatzstoffe': 'ohne ölige Inhaltsstoffe, sulfatfrei, '\n",
      "                                       'paraffinfrei, parabenfrei, '\n",
      "                                       'silikonfrei, parfümfrei, amoniakfrei'},\n",
      "  'product_labels': [ 'silikonfrei',\n",
      "                      'paraffinfrei',\n",
      "                      'parabenfrei',\n",
      "                      'sulfatfrei',\n",
      "                      'ohne ölige Inhaltsstoffe',\n",
      "                      'parfümfrei',\n",
      "                      'amoniakfrei'],\n",
      "  'total_ratings': '261',\n",
      "  'variants': [ {'name': '28 ml', 'price': '25.00'},\n",
      "                {'name': '125 ml', 'price': '40.00'}]}\n"
     ]
    }
   ],
   "source": [
    "PrettyPrinter(indent=2).pprint(\n",
    "    {\n",
    "        \"name\": soup.find(\"span\", attrs={\"class\": \"header-name\"}).text,\n",
    "        \"image\": soup.find(\"img\", attrs={\"class\": \"image swiper-lazy\"}).get(\n",
    "            \"data-lazy-src\"\n",
    "        ),\n",
    "        \"variants\": [\n",
    "            {\n",
    "                \"name\": sou.find(\n",
    "                    \"div\", attrs={\"class\": \"product-detail__variant-name\"}\n",
    "                ).text,\n",
    "                \"price\": re.search(\n",
    "                    r\"\\d+\\.\\d+\",\n",
    "                    sou.find(\"span\", attrs={\"class\": \"product-price__price\"})\n",
    "                    .text.replace(\"\\xa0\", \" \")\n",
    "                    .replace(\",\", \".\"),\n",
    "                    flags=re.I,\n",
    "                ).group(),\n",
    "            }\n",
    "            for sou in soup.find_all(\n",
    "                \"div\", attrs={\"class\": \"product-detail__variant-row\"}\n",
    "            )\n",
    "        ],\n",
    "        \"product_labels\": [\n",
    "            s.text\n",
    "            for s in soup.find(\"div\", attrs={\"class\": \"product-labels\"}).find_all(\n",
    "                \"span\", {\"class\": \"product-label__name\"}\n",
    "            )\n",
    "        ],\n",
    "        \"product_details\": {\n",
    "            sou.find_all(\"span\")[0].text: sou.find_all(\"span\")[1].text\n",
    "            for sou in soup.find(\n",
    "                \"div\", attrs={\"data-testid\": \"product-detail-info__classifications\"}\n",
    "            ).find_all(\"div\")\n",
    "        },\n",
    "        \"description\": soup.find(\n",
    "            \"div\", attrs={\"class\": \"truncate product-details__description\"}\n",
    "        ).text,\n",
    "        \"avg_rating\": re.search(\n",
    "            r\"^\\d+\\.\\d+\",\n",
    "            soup.find(\"span\", attrs={\"class\": \"ratings-info\"}).text.replace(\n",
    "                \"\\xa0\", \" \"\n",
    "            ),\n",
    "            flags=re.I,\n",
    "        ).group(),\n",
    "        \"total_ratings\": re.search(\n",
    "            r\"\\(\\d+\\)$\",\n",
    "            soup.find(\"span\", attrs={\"class\": \"ratings-info\"}).text.replace(\n",
    "                \"\\xa0\", \" \"\n",
    "            ),\n",
    "            flags=re.I,\n",
    "        )\n",
    "        .group()\n",
    "        .strip(\"()\"),\n",
    "    }\n",
    ")"
   ]
  },
  {
   "cell_type": "code",
   "execution_count": null,
   "id": "d9cecf2bb0513b57",
   "metadata": {},
   "outputs": [],
   "source": []
  }
 ],
 "metadata": {
  "kernelspec": {
   "display_name": "Python 3",
   "language": "python",
   "name": "python3"
  },
  "language_info": {
   "codemirror_mode": {
    "name": "ipython",
    "version": 2
   },
   "file_extension": ".py",
   "mimetype": "text/x-python",
   "name": "python",
   "nbconvert_exporter": "python",
   "pygments_lexer": "ipython2",
   "version": "2.7.6"
  }
 },
 "nbformat": 4,
 "nbformat_minor": 5
}
